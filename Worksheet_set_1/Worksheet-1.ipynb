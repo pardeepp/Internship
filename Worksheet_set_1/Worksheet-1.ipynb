{
 "cells": [
  {
   "cell_type": "raw",
   "id": "4538b69e",
   "metadata": {},
   "source": [
    "Worksheet-1, 11-04-2022"
   ]
  },
  {
   "cell_type": "markdown",
   "id": "8852a6eb",
   "metadata": {},
   "source": [
    "Write a python program to find the factorial of a number"
   ]
  },
  {
   "cell_type": "code",
   "execution_count": 62,
   "id": "1e35ac01",
   "metadata": {},
   "outputs": [
    {
     "name": "stdout",
     "output_type": "stream",
     "text": [
      "6\n"
     ]
    }
   ],
   "source": [
    "number=3 #input variable   \n",
    "factOutPut=1 #output variable\n",
    "if number < 0: # checking if number is <0, we can not find factorial for -ve values\n",
    "    print(\"we can not find factorial for -ve values\")\n",
    "elif number==0:\n",
    "    print(1) # factorial value of 0 is 1\n",
    "else:\n",
    "    for i in range(1,number+1): #defining range for iteration with range function\n",
    "        factOutPut=factOutPut*i\n",
    "    print(factOutPut) # printing output\n"
   ]
  },
  {
   "cell_type": "markdown",
   "id": "d0f88f2f",
   "metadata": {},
   "source": [
    "Write a python program to find whether a number is prime or composite."
   ]
  },
  {
   "cell_type": "code",
   "execution_count": 63,
   "id": "ae333563",
   "metadata": {},
   "outputs": [
    {
     "name": "stdout",
     "output_type": "stream",
     "text": [
      "provided number 5 is prime number\n"
     ]
    }
   ],
   "source": [
    " num=5 #input variable, change the variable value to check composite or prime number\n",
    "if(num ==0 or num == 1):\n",
    "    print(\"Provided Number\",num,\"is neither prime nor composite\")\n",
    "elif num>1 :\n",
    "    for i in range(2,num):\n",
    "        if(num%i == 0):\n",
    "            print(\"provided number\",num,\"is composite number\")\n",
    "            break\n",
    "    else:\n",
    "           print(\"provided number\",num,\"is prime number\")\n",
    "else :\n",
    "    print(\"Please enter positive number only \")   "
   ]
  },
  {
   "cell_type": "markdown",
   "id": "9218f70d",
   "metadata": {},
   "source": [
    "Write a python program to check whether a given string is palindrome or not."
   ]
  },
  {
   "cell_type": "code",
   "execution_count": 67,
   "id": "01708432",
   "metadata": {},
   "outputs": [
    {
     "name": "stdout",
     "output_type": "stream",
     "text": [
      "Yes, string is palindrome\n"
     ]
    }
   ],
   "source": [
    "#defining a function to check \n",
    "def isPalindrome(string):\n",
    "    return string == string[::-1]\n",
    " \n",
    "\n",
    "string = \"madam\" # string to check try madam, dad, any other string, which is not palindrome\n",
    "BoolVar = isPalindrome(string)\n",
    " \n",
    "if BoolVar==True:\n",
    "    print(\"Yes, string is palindrome\")\n",
    "else:\n",
    "    print(\"No, string is not palindrome\")"
   ]
  },
  {
   "cell_type": "markdown",
   "id": "93d90812",
   "metadata": {},
   "source": [
    "Write a Python program to get the third side of right-angled triangle from two given sides.\n",
    "\n",
    "(Perpendicular)2 + (Base)2 = (Hypotenuse)2 \n"
   ]
  },
  {
   "cell_type": "code",
   "execution_count": 102,
   "id": "53c745e4",
   "metadata": {},
   "outputs": [
    {
     "name": "stdout",
     "output_type": "stream",
     "text": [
      "Hypotenuse = 10.0\n",
      "Base = 8.0\n",
      "Perpendicular = 8.0\n"
     ]
    }
   ],
   "source": [
    "import math\n",
    "def pythagoras(Perpendicular,Base,hypotenuse):\n",
    "        if Perpendicular == str(\"x\"):\n",
    "            return (\"Perpendicular = \" + str(math.sqrt(hypotenuse**2 - Base**2)))\n",
    "        elif Base == str(\"x\"):\n",
    "            return (\"Base = \" + str(math.sqrt(hypotenuse**2 - Perpendicular**2)))\n",
    "        elif hypotenuse == str(\"x\"):\n",
    "            return (\"Hypotenuse = \" + str(math.sqrt(Perpendicular**2 + Base**2)))\n",
    "        else:\n",
    "            return \"You know the answer!\"\n",
    "    \n",
    "print(pythagoras(6,8,'x'))\n",
    "print(pythagoras(6,'x',10))\n",
    "print(pythagoras('x',6,10))"
   ]
  },
  {
   "cell_type": "markdown",
   "id": "d0506dfa",
   "metadata": {},
   "source": [
    "Write a python program to print the frequency of each of the characters present in a given string"
   ]
  },
  {
   "cell_type": "code",
   "execution_count": 104,
   "id": "1dcdea2d",
   "metadata": {},
   "outputs": [
    {
     "data": {
      "text/plain": [
       "{'t': 6, 'e': 2, 's': 3, 'S': 1, 'r': 2, 'i': 1, 'n': 1, 'g': 1}"
      ]
     },
     "execution_count": 104,
     "metadata": {},
     "output_type": "execute_result"
    }
   ],
   "source": [
    "testStr = \"testStringteststr\"\n",
    "charFreq = {}\n",
    "  \n",
    "for i in testStr:\n",
    "    if i in charFreq:\n",
    "        charFreq[i] += 1\n",
    "    else:\n",
    "        charFreq[i] = 1\n",
    "        \n",
    "charFreq"
   ]
  },
  {
   "cell_type": "code",
   "execution_count": null,
   "id": "f0d73399",
   "metadata": {},
   "outputs": [],
   "source": []
  }
 ],
 "metadata": {
  "kernelspec": {
   "display_name": "Python 3 (ipykernel)",
   "language": "python",
   "name": "python3"
  },
  "language_info": {
   "codemirror_mode": {
    "name": "ipython",
    "version": 3
   },
   "file_extension": ".py",
   "mimetype": "text/x-python",
   "name": "python",
   "nbconvert_exporter": "python",
   "pygments_lexer": "ipython3",
   "version": "3.9.7"
  }
 },
 "nbformat": 4,
 "nbformat_minor": 5
}
